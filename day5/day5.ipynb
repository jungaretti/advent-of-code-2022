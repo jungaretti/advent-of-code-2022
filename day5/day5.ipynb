{
 "cells": [
  {
   "cell_type": "markdown",
   "metadata": {},
   "source": [
    "# Day 5"
   ]
  },
  {
   "cell_type": "code",
   "execution_count": 25,
   "metadata": {},
   "outputs": [],
   "source": [
    "lines = []\n",
    "with open(\"day5.txt\", \"r\") as file:\n",
    "    lines = file.read().splitlines()"
   ]
  },
  {
   "cell_type": "code",
   "execution_count": 26,
   "metadata": {},
   "outputs": [],
   "source": [
    "import re\n",
    "\n",
    "CRATE_RANGE = range(0, 9)\n",
    "\n",
    "def crateAtColumn(row, column):\n",
    "    index = 3 * (column - 1) + column\n",
    "    return row[index:(index + 1)]\n",
    "\n",
    "def parseCrates(lines):\n",
    "    stacks: list[str] = []\n",
    "    for line in lines:\n",
    "        for crateIndex in CRATE_RANGE:\n",
    "            if len(stacks) == crateIndex:\n",
    "                stacks.append([])\n",
    "            \n",
    "            element = crateAtColumn(line, crateIndex+1)\n",
    "            if element != \" \":\n",
    "                stacks[crateIndex].append(element)\n",
    "    \n",
    "    for crateIndex in CRATE_RANGE:\n",
    "        stacks[crateIndex].reverse()\n",
    "\n",
    "    return stacks\n",
    "\n",
    "def parseMove(line):\n",
    "    matches = re.findall(r'move (\\d+) from (\\d+) to (\\d+)', line)\n",
    "    return (\n",
    "        int(matches[0][0]),\n",
    "        int(matches[0][1]) - 1,\n",
    "        int(matches[0][2]) - 1\n",
    "    )"
   ]
  },
  {
   "cell_type": "markdown",
   "metadata": {},
   "source": [
    "## Part 1\n"
   ]
  },
  {
   "cell_type": "code",
   "execution_count": 28,
   "metadata": {},
   "outputs": [
    {
     "data": {
      "text/plain": [
       "'BWNCQRMDB'"
      ]
     },
     "execution_count": 28,
     "metadata": {},
     "output_type": "execute_result"
    }
   ],
   "source": [
    "import functools\n",
    "\n",
    "stacks = parseCrates(lines[:8])\n",
    "\n",
    "for line in lines[10:]:\n",
    "    [quantity, fromIndex, toIndex] = parseMove(line)\n",
    "\n",
    "    for move in range(0, quantity):\n",
    "        element = stacks[fromIndex].pop()\n",
    "        stacks[toIndex].append(element)\n",
    "\n",
    "functools.reduce(lambda result, current: result + current.pop(), stacks, \"\")"
   ]
  },
  {
   "cell_type": "code",
   "execution_count": null,
   "metadata": {},
   "outputs": [],
   "source": []
  }
 ],
 "metadata": {
  "kernelspec": {
   "display_name": "Python 3.10.4 64-bit",
   "language": "python",
   "name": "python3"
  },
  "language_info": {
   "codemirror_mode": {
    "name": "ipython",
    "version": 3
   },
   "file_extension": ".py",
   "mimetype": "text/x-python",
   "name": "python",
   "nbconvert_exporter": "python",
   "pygments_lexer": "ipython3",
   "version": "3.10.4"
  },
  "orig_nbformat": 4,
  "vscode": {
   "interpreter": {
    "hash": "3ad933181bd8a04b432d3370b9dc3b0662ad032c4dfaa4e4f1596c548f763858"
   }
  }
 },
 "nbformat": 4,
 "nbformat_minor": 2
}
