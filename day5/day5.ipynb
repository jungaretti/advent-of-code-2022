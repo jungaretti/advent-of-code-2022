{
 "cells": [
  {
   "cell_type": "markdown",
   "metadata": {},
   "source": [
    "# Day 5"
   ]
  },
  {
   "cell_type": "code",
   "execution_count": 2,
   "metadata": {},
   "outputs": [],
   "source": [
    "lines = []\n",
    "with open(\"day5.txt\", \"r\") as file:\n",
    "    lines = file.read().splitlines()"
   ]
  },
  {
   "cell_type": "markdown",
   "metadata": {},
   "source": [
    "## Part 1\n"
   ]
  },
  {
   "cell_type": "code",
   "execution_count": 32,
   "metadata": {},
   "outputs": [],
   "source": [
    "def parseColumn(row, column):\n",
    "    index = 3 * (column - 1) + column\n",
    "    return row[index:(index + 1)]"
   ]
  },
  {
   "cell_type": "code",
   "execution_count": 68,
   "metadata": {},
   "outputs": [
    {
     "data": {
      "text/plain": [
       "'BWNCQRMDB'"
      ]
     },
     "execution_count": 68,
     "metadata": {},
     "output_type": "execute_result"
    }
   ],
   "source": [
    "import re\n",
    "\n",
    "stacks = []\n",
    "for line in lines:\n",
    "    if line.startswith(\" 1   2   3\"):\n",
    "        break\n",
    "\n",
    "    for index in range(0, 9):\n",
    "        if len(stacks) == index:\n",
    "            stacks.append([])\n",
    "\n",
    "        element = parseColumn(line, index+1)\n",
    "        if element != \" \":\n",
    "            stacks[index].append(element)\n",
    "\n",
    "# Don't forget to reverse stacks\n",
    "for index in range(0, 9):\n",
    "    stacks[index].reverse()\n",
    "\n",
    "for line in lines:\n",
    "    if not line.startswith(\"move\"):\n",
    "        continue\n",
    "\n",
    "    g = re.findall(r'move (\\d+) from (\\d+) to (\\d+)', line)\n",
    "    quantity = int(g[0][0])\n",
    "    fromIndex = int(g[0][1]) - 1\n",
    "    toIndex = int(g[0][2]) - 1\n",
    "\n",
    "    for move in range(0, quantity):\n",
    "        element = stacks[fromIndex].pop()\n",
    "        stacks[toIndex].append(element)\n",
    "\n",
    "result = \"\"\n",
    "for index in range(0, 9):\n",
    "    result += stacks[index].pop()\n",
    "result"
   ]
  },
  {
   "cell_type": "code",
   "execution_count": null,
   "metadata": {},
   "outputs": [],
   "source": []
  }
 ],
 "metadata": {
  "kernelspec": {
   "display_name": "Python 3.10.4 64-bit",
   "language": "python",
   "name": "python3"
  },
  "language_info": {
   "codemirror_mode": {
    "name": "ipython",
    "version": 3
   },
   "file_extension": ".py",
   "mimetype": "text/x-python",
   "name": "python",
   "nbconvert_exporter": "python",
   "pygments_lexer": "ipython3",
   "version": "3.10.4"
  },
  "orig_nbformat": 4,
  "vscode": {
   "interpreter": {
    "hash": "3ad933181bd8a04b432d3370b9dc3b0662ad032c4dfaa4e4f1596c548f763858"
   }
  }
 },
 "nbformat": 4,
 "nbformat_minor": 2
}
