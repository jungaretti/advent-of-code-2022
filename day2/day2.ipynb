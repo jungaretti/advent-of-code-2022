{
 "cells": [
  {
   "cell_type": "markdown",
   "metadata": {},
   "source": [
    "# Day 2"
   ]
  },
  {
   "cell_type": "code",
   "execution_count": 63,
   "metadata": {},
   "outputs": [],
   "source": [
    "def points(opp, me):\n",
    "    oppValue = ord(opp) - ord(\"A\") + 1\n",
    "    meValue = ord(me) - ord(\"X\") + 1\n",
    "    difference = meValue - (oppValue % 3)\n",
    "    \n",
    "    score = 0\n",
    "    if meValue == oppValue:\n",
    "        score += 3\n",
    "    elif difference == 1:\n",
    "        score += 6\n",
    "    \n",
    "    score += meValue\n",
    "    return score"
   ]
  },
  {
   "cell_type": "code",
   "execution_count": 64,
   "metadata": {},
   "outputs": [],
   "source": [
    "lines = []\n",
    "with open(\"day2.txt\", \"r\") as file:\n",
    "    lines = file.read().splitlines()"
   ]
  },
  {
   "cell_type": "markdown",
   "metadata": {},
   "source": [
    "## Part 1"
   ]
  },
  {
   "cell_type": "code",
   "execution_count": 65,
   "metadata": {},
   "outputs": [
    {
     "data": {
      "text/plain": [
       "11603"
      ]
     },
     "execution_count": 65,
     "metadata": {},
     "output_type": "execute_result"
    }
   ],
   "source": [
    "sum = 0\n",
    "for line in lines:\n",
    "    turn = line.split(\" \")\n",
    "    sum += points(turn[0], turn[1])\n",
    "\n",
    "sum"
   ]
  },
  {
   "cell_type": "markdown",
   "metadata": {},
   "source": [
    "## Part 2"
   ]
  },
  {
   "cell_type": "code",
   "execution_count": 66,
   "metadata": {},
   "outputs": [
    {
     "data": {
      "text/plain": [
       "12725"
      ]
     },
     "execution_count": 66,
     "metadata": {},
     "output_type": "execute_result"
    }
   ],
   "source": [
    "def solveOutcome(opp, outcome):\n",
    "    oppValue = ord(opp) - ord(\"A\")\n",
    "    shift = ord(outcome) - ord(\"X\") - 1\n",
    "    target = (oppValue + shift) % 3\n",
    "    return chr(ord(\"X\") + target)\n",
    "\n",
    "sum = 0\n",
    "for line in lines:\n",
    "    turn = line.split(\" \")\n",
    "    move = solveOutcome(turn[0], turn[1])\n",
    "    sum += points(turn[0], move)\n",
    "\n",
    "sum"
   ]
  }
 ],
 "metadata": {
  "kernelspec": {
   "display_name": "Python 3 (ipykernel)",
   "language": "python",
   "name": "python3"
  },
  "language_info": {
   "codemirror_mode": {
    "name": "ipython",
    "version": 3
   },
   "file_extension": ".py",
   "mimetype": "text/x-python",
   "name": "python",
   "nbconvert_exporter": "python",
   "pygments_lexer": "ipython3",
   "version": "3.10.4"
  },
  "vscode": {
   "interpreter": {
    "hash": "3ad933181bd8a04b432d3370b9dc3b0662ad032c4dfaa4e4f1596c548f763858"
   }
  }
 },
 "nbformat": 4,
 "nbformat_minor": 4
}
