{
 "cells": [
  {
   "cell_type": "markdown",
   "metadata": {},
   "source": [
    "# Day 8"
   ]
  },
  {
   "cell_type": "code",
   "execution_count": 30,
   "metadata": {},
   "outputs": [],
   "source": [
    "lines: list[str] = []\n",
    "with open(\"day8.txt\", \"r\") as file:\n",
    "    lines = file.read().splitlines()"
   ]
  },
  {
   "cell_type": "code",
   "execution_count": 31,
   "metadata": {},
   "outputs": [],
   "source": [
    "def parseTrees(lines: list[str]) -> list[list[int]]:\n",
    "    result = []\n",
    "    for line in lines:\n",
    "        newRow = []\n",
    "        for tree in line:\n",
    "            newRow.append(tree)\n",
    "        result.append(newRow)\n",
    "    return result\n",
    "\n",
    "def column(matrix, i):\n",
    "    return [row[i] for row in matrix]"
   ]
  },
  {
   "cell_type": "markdown",
   "metadata": {},
   "source": [
    "## Part 1"
   ]
  },
  {
   "cell_type": "code",
   "execution_count": 32,
   "metadata": {},
   "outputs": [
    {
     "data": {
      "text/plain": [
       "1715"
      ]
     },
     "execution_count": 32,
     "metadata": {},
     "output_type": "execute_result"
    }
   ],
   "source": [
    "def visibility(forest: list[list[int]]) -> list[list[(bool)]]:\n",
    "    result = []\n",
    "    for row, trees in enumerate(forest):\n",
    "        newRow = []\n",
    "        for col, height in enumerate(trees):\n",
    "            above = [i[col] for i in forest][:row]\n",
    "            right = forest[row][col+1:]\n",
    "            below = [i[col] for i in forest][row+1:]\n",
    "            left = forest[row][:col]\n",
    "\n",
    "            visibility = (\n",
    "                len(above) == 0 or height > max(above),\n",
    "                len(right) == 0 or height > max(right),\n",
    "                len(below) == 0 or height > max(below),\n",
    "                len(left) == 0 or height > max(left))\n",
    "            newRow.append(max(visibility))\n",
    "        result.append(newRow)\n",
    "    return result\n",
    "\n",
    "forest = parseTrees(lines)\n",
    "visibility = visibility(forest)\n",
    "\n",
    "solution = 0\n",
    "for row in visibility:\n",
    "    for treeVisibility in row:\n",
    "        if treeVisibility == True:\n",
    "            solution += 1\n",
    "\n",
    "solution"
   ]
  },
  {
   "cell_type": "markdown",
   "metadata": {},
   "source": [
    "## Part 2"
   ]
  },
  {
   "cell_type": "code",
   "execution_count": 33,
   "metadata": {},
   "outputs": [
    {
     "data": {
      "text/plain": [
       "374400"
      ]
     },
     "execution_count": 33,
     "metadata": {},
     "output_type": "execute_result"
    }
   ],
   "source": [
    "def find_score(height, elements):\n",
    "    for index, otherHeight in enumerate(elements):\n",
    "        if otherHeight >= height:\n",
    "            return index+1\n",
    "    return len(elements)\n",
    "\n",
    "def scenic_score(forest: list[list[int]]) -> list[list[int]]:\n",
    "    result = []\n",
    "    for row, trees in enumerate(forest):\n",
    "        newRow = []\n",
    "        for col, height in enumerate(trees):\n",
    "            above = [i[col] for i in forest][:row]\n",
    "            right = forest[row][col+1:]\n",
    "            below = [i[col] for i in forest][row+1:]\n",
    "            left = forest[row][:col]\n",
    "\n",
    "            above.reverse()\n",
    "            left.reverse()\n",
    "\n",
    "            score = find_score(height, above) * find_score(height, right) * find_score(height, below) * find_score(height, left)\n",
    "            newRow.append(score)\n",
    "        result.append(newRow)\n",
    "    return result\n",
    "\n",
    "forest = parseTrees(lines)\n",
    "scores = scenic_score(forest)\n",
    "\n",
    "solution = 0\n",
    "for row in scores:\n",
    "    for treeScore in row:\n",
    "        solution = max(solution, treeScore)\n",
    "\n",
    "solution"
   ]
  }
 ],
 "metadata": {
  "kernelspec": {
   "display_name": "Python 3.10.4 64-bit",
   "language": "python",
   "name": "python3"
  },
  "language_info": {
   "codemirror_mode": {
    "name": "ipython",
    "version": 3
   },
   "file_extension": ".py",
   "mimetype": "text/x-python",
   "name": "python",
   "nbconvert_exporter": "python",
   "pygments_lexer": "ipython3",
   "version": "3.10.4"
  },
  "orig_nbformat": 4,
  "vscode": {
   "interpreter": {
    "hash": "3ad933181bd8a04b432d3370b9dc3b0662ad032c4dfaa4e4f1596c548f763858"
   }
  }
 },
 "nbformat": 4,
 "nbformat_minor": 2
}
