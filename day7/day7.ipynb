{
 "cells": [
  {
   "cell_type": "markdown",
   "metadata": {},
   "source": [
    "# Day 7"
   ]
  },
  {
   "cell_type": "code",
   "execution_count": 72,
   "metadata": {},
   "outputs": [],
   "source": [
    "lines: list[str] = []\n",
    "with open(\"day7.txt\", \"r\") as file:\n",
    "    lines = file.read().splitlines()"
   ]
  },
  {
   "cell_type": "code",
   "execution_count": 73,
   "metadata": {},
   "outputs": [],
   "source": [
    "import re\n",
    "\n",
    "DIR_REGEX = r\"dir (.+)\"\n",
    "FILE_REGEX = r\"(\\d+) (.+)\"\n",
    "\n",
    "def parseFiles(lines: list[str]) -> dict[str:int]:\n",
    "    directoryStack: list[str] = None\n",
    "    files = {}\n",
    "    \n",
    "    for line in lines:\n",
    "        if line.startswith(\"$ cd\"):\n",
    "            target = line[5:]\n",
    "            match target:\n",
    "                case \"/\":\n",
    "                    directoryStack = [\"./\"]\n",
    "                case \"..\":\n",
    "                    directoryStack.pop()\n",
    "                case _:\n",
    "                    new = directoryStack[-1] + target + \"/\"\n",
    "                    directoryStack.append(new)\n",
    "        elif re.match(FILE_REGEX, line) != None:\n",
    "            matches = re.findall(FILE_REGEX, line)\n",
    "            name = directoryStack[-1] + matches[0][1]\n",
    "            size = int(matches[0][0])\n",
    "            files[name] = size\n",
    "\n",
    "    return files\n",
    "\n",
    "def findParents(file: str) -> list[str]:\n",
    "    parents = []\n",
    "    while len(file) > 1:\n",
    "        index = file.rfind(\"/\")\n",
    "        dir = file[:index]\n",
    "        parents.append(dir)\n",
    "        file = file[:index]\n",
    "\n",
    "    return parents\n",
    "\n",
    "def measureDirectories(files: dict[str, int]) -> dict[str,int]:\n",
    "    directories = {}\n",
    "    for file in files:\n",
    "        size = files[file]\n",
    "        for directory in findParents(file):\n",
    "            directories[directory] = size + directories.get(directory, 0)\n",
    "\n",
    "    return directories"
   ]
  },
  {
   "cell_type": "markdown",
   "metadata": {},
   "source": [
    "## Part 1"
   ]
  },
  {
   "cell_type": "code",
   "execution_count": 74,
   "metadata": {},
   "outputs": [
    {
     "data": {
      "text/plain": [
       "1390824"
      ]
     },
     "execution_count": 74,
     "metadata": {},
     "output_type": "execute_result"
    }
   ],
   "source": [
    "files = parseFiles(lines)\n",
    "directories = measureDirectories(files)\n",
    "\n",
    "solution = 0\n",
    "for size in directories.values():\n",
    "    if size <= 100000:\n",
    "        solution += size\n",
    "\n",
    "solution"
   ]
  },
  {
   "cell_type": "markdown",
   "metadata": {},
   "source": [
    "## Part 2"
   ]
  },
  {
   "cell_type": "code",
   "execution_count": 75,
   "metadata": {},
   "outputs": [
    {
     "data": {
      "text/plain": [
       "7490863"
      ]
     },
     "execution_count": 75,
     "metadata": {},
     "output_type": "execute_result"
    }
   ],
   "source": [
    "TOTAL_SPACE = 70000000\n",
    "NEEDED_SPACE = 30000000\n",
    "\n",
    "files = parseFiles(lines)\n",
    "directories = measureDirectories(files)\n",
    "min_size = -1 * (TOTAL_SPACE - directories[\".\"] - NEEDED_SPACE)\n",
    "\n",
    "solution = TOTAL_SPACE\n",
    "for size in directories.values():\n",
    "    if size >= min_size and size < solution:\n",
    "        solution = size\n",
    "\n",
    "solution"
   ]
  }
 ],
 "metadata": {
  "kernelspec": {
   "display_name": "Python 3.10.4 64-bit",
   "language": "python",
   "name": "python3"
  },
  "language_info": {
   "codemirror_mode": {
    "name": "ipython",
    "version": 3
   },
   "file_extension": ".py",
   "mimetype": "text/x-python",
   "name": "python",
   "nbconvert_exporter": "python",
   "pygments_lexer": "ipython3",
   "version": "3.10.4"
  },
  "orig_nbformat": 4,
  "vscode": {
   "interpreter": {
    "hash": "3ad933181bd8a04b432d3370b9dc3b0662ad032c4dfaa4e4f1596c548f763858"
   }
  }
 },
 "nbformat": 4,
 "nbformat_minor": 2
}
