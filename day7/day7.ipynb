{
 "cells": [
  {
   "cell_type": "markdown",
   "metadata": {},
   "source": [
    "# Day 7"
   ]
  },
  {
   "cell_type": "code",
   "execution_count": 39,
   "metadata": {},
   "outputs": [],
   "source": [
    "lines: list[str] = []\n",
    "with open(\"day7.txt\", \"r\") as file:\n",
    "    lines = file.read().splitlines()"
   ]
  },
  {
   "cell_type": "code",
   "execution_count": 40,
   "metadata": {},
   "outputs": [],
   "source": [
    "class Node:\n",
    "    def __init__(self, name: str, size: int = 0) -> None:\n",
    "        self.name = name\n",
    "        self.size = size\n",
    "        self.children = {}"
   ]
  },
  {
   "cell_type": "code",
   "execution_count": 41,
   "metadata": {},
   "outputs": [],
   "source": [
    "import re\n",
    "import functools\n",
    "\n",
    "def parse(lines: list[str]):\n",
    "    root = Node(\"/\")\n",
    "    current = None\n",
    "    history: list[Node] = []\n",
    "\n",
    "    for line in lines:\n",
    "        if line.startswith(\"$ cd\"):\n",
    "            target = line[5:]\n",
    "            if target == \"/\":\n",
    "                current = root\n",
    "                history.append(current)\n",
    "            elif target == \"..\":\n",
    "                current = history.pop()\n",
    "            else:\n",
    "                history.append(current)\n",
    "                current = current.children[target]\n",
    "        elif line.startswith(\"$ ls\"):\n",
    "            continue\n",
    "        elif line.startswith(\"dir\"):\n",
    "            target = line[4:]\n",
    "            if current.children.get(target) == None:\n",
    "                current.children[target] = Node(target)\n",
    "        else:\n",
    "            matches = re.findall(r'(\\d+) (.+)', line)\n",
    "            size = int(matches[0][0])\n",
    "            name = matches[0][1]\n",
    "            if current.children.get(name) == None:\n",
    "                current.children[name] = Node(name, size)\n",
    "    \n",
    "    return root\n",
    "\n",
    "def file_size(file: Node):\n",
    "    if file.size > 0:\n",
    "        return file.size\n",
    "\n",
    "    size = functools.reduce(lambda sum, file: sum + file_size(file), file.children.values(), 0)\n",
    "    file.size = size\n",
    "    return size"
   ]
  },
  {
   "cell_type": "markdown",
   "metadata": {},
   "source": [
    "## Part 1"
   ]
  },
  {
   "cell_type": "code",
   "execution_count": 44,
   "metadata": {},
   "outputs": [
    {
     "data": {
      "text/plain": [
       "1390824"
      ]
     },
     "execution_count": 44,
     "metadata": {},
     "output_type": "execute_result"
    }
   ],
   "source": [
    "def partOne(file: Node):\n",
    "    if len(file.children) == 0:\n",
    "        return 0\n",
    "\n",
    "    sum = 0\n",
    "    \n",
    "    if file_size(file) < 100000:\n",
    "        sum += file_size(file)\n",
    "\n",
    "    for child in file.children.values():\n",
    "        sum += partOne(child)\n",
    "\n",
    "    return sum\n",
    "\n",
    "tree = parse(lines)\n",
    "partOne(tree)"
   ]
  },
  {
   "cell_type": "code",
   "execution_count": null,
   "metadata": {},
   "outputs": [],
   "source": []
  }
 ],
 "metadata": {
  "kernelspec": {
   "display_name": "Python 3.10.4 64-bit",
   "language": "python",
   "name": "python3"
  },
  "language_info": {
   "codemirror_mode": {
    "name": "ipython",
    "version": 3
   },
   "file_extension": ".py",
   "mimetype": "text/x-python",
   "name": "python",
   "nbconvert_exporter": "python",
   "pygments_lexer": "ipython3",
   "version": "3.10.4"
  },
  "orig_nbformat": 4,
  "vscode": {
   "interpreter": {
    "hash": "3ad933181bd8a04b432d3370b9dc3b0662ad032c4dfaa4e4f1596c548f763858"
   }
  }
 },
 "nbformat": 4,
 "nbformat_minor": 2
}
