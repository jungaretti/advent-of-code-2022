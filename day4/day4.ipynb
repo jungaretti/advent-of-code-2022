{
 "cells": [
  {
   "cell_type": "markdown",
   "metadata": {},
   "source": [
    "# Day 4"
   ]
  },
  {
   "cell_type": "code",
   "execution_count": 29,
   "metadata": {},
   "outputs": [],
   "source": [
    "def rangeToSet(rangeText):\n",
    "    edges = rangeText.split(\"-\")\n",
    "    lower = int(edges[0])\n",
    "    upper = int(edges[1])\n",
    "    return set(range(lower, upper+1))"
   ]
  },
  {
   "cell_type": "code",
   "execution_count": 30,
   "metadata": {},
   "outputs": [],
   "source": [
    "lines = []\n",
    "with open(\"day4.txt\", \"r\") as file:\n",
    "    lines = file.read().splitlines()"
   ]
  },
  {
   "cell_type": "markdown",
   "metadata": {},
   "source": [
    "# Part 1"
   ]
  },
  {
   "cell_type": "code",
   "execution_count": 31,
   "metadata": {},
   "outputs": [
    {
     "data": {
      "text/plain": [
       "453"
      ]
     },
     "execution_count": 31,
     "metadata": {},
     "output_type": "execute_result"
    }
   ],
   "source": [
    "fullyContainedCount = 0\n",
    "\n",
    "for line in lines:\n",
    "    buckets = line.split(\",\")\n",
    "    left = buckets[0]\n",
    "    right = buckets[1]\n",
    "\n",
    "    leftSet = rangeToSet(left)\n",
    "    rightSet = rangeToSet(right)\n",
    "\n",
    "    rightContained = len(set.difference(leftSet, rightSet)) == 0\n",
    "    leftContained = len(set.difference(rightSet, leftSet)) == 0\n",
    "    if rightContained or leftContained:\n",
    "        fullyContainedCount = fullyContainedCount + 1\n",
    "\n",
    "fullyContainedCount"
   ]
  }
 ],
 "metadata": {
  "kernelspec": {
   "display_name": "Python 3.10.4 64-bit",
   "language": "python",
   "name": "python3"
  },
  "language_info": {
   "codemirror_mode": {
    "name": "ipython",
    "version": 3
   },
   "file_extension": ".py",
   "mimetype": "text/x-python",
   "name": "python",
   "nbconvert_exporter": "python",
   "pygments_lexer": "ipython3",
   "version": "3.10.4"
  },
  "orig_nbformat": 4,
  "vscode": {
   "interpreter": {
    "hash": "3ad933181bd8a04b432d3370b9dc3b0662ad032c4dfaa4e4f1596c548f763858"
   }
  }
 },
 "nbformat": 4,
 "nbformat_minor": 2
}
