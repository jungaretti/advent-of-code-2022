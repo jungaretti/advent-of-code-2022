{
 "cells": [
  {
   "cell_type": "markdown",
   "metadata": {},
   "source": [
    "# Day 4"
   ]
  },
  {
   "cell_type": "code",
   "execution_count": 1,
   "metadata": {},
   "outputs": [],
   "source": [
    "def rangeToSet(rangeText):\n",
    "    edges = rangeText.split(\"-\")\n",
    "    lower = int(edges[0])\n",
    "    upper = int(edges[1])\n",
    "    return set(range(lower, upper+1))"
   ]
  },
  {
   "cell_type": "code",
   "execution_count": 2,
   "metadata": {},
   "outputs": [],
   "source": [
    "lines = []\n",
    "with open(\"day4.txt\", \"r\") as file:\n",
    "    lines = file.read().splitlines()"
   ]
  },
  {
   "cell_type": "markdown",
   "metadata": {},
   "source": [
    "## Part 1"
   ]
  },
  {
   "cell_type": "code",
   "execution_count": 3,
   "metadata": {},
   "outputs": [
    {
     "data": {
      "text/plain": [
       "453"
      ]
     },
     "execution_count": 3,
     "metadata": {},
     "output_type": "execute_result"
    }
   ],
   "source": [
    "import functools\n",
    "\n",
    "def countContainedLines(sum: int, line: str) -> int:\n",
    "    buckets = line.split(\",\")\n",
    "    left = rangeToSet(buckets[0])\n",
    "    right = rangeToSet(buckets[1])\n",
    "\n",
    "    if left <= right or right <= left:\n",
    "        return sum + 1\n",
    "    return sum\n",
    "\n",
    "functools.reduce(countContainedLines, lines, 0)"
   ]
  },
  {
   "cell_type": "markdown",
   "metadata": {},
   "source": [
    "## Part 2"
   ]
  },
  {
   "cell_type": "code",
   "execution_count": 4,
   "metadata": {},
   "outputs": [
    {
     "data": {
      "text/plain": [
       "919"
      ]
     },
     "execution_count": 4,
     "metadata": {},
     "output_type": "execute_result"
    }
   ],
   "source": [
    "import functools\n",
    "\n",
    "def countContainedLines(sum: int, line: str) -> int:\n",
    "    buckets = line.split(\",\")\n",
    "    left = rangeToSet(buckets[0])\n",
    "    right = rangeToSet(buckets[1])\n",
    "\n",
    "    if len(set.intersection(left, right)) > 0:\n",
    "        return sum + 1\n",
    "    return sum\n",
    "\n",
    "functools.reduce(countContainedLines, lines, 0)"
   ]
  }
 ],
 "metadata": {
  "kernelspec": {
   "display_name": "Python 3 (ipykernel)",
   "language": "python",
   "name": "python3"
  },
  "language_info": {
   "codemirror_mode": {
    "name": "ipython",
    "version": 3
   },
   "file_extension": ".py",
   "mimetype": "text/x-python",
   "name": "python",
   "nbconvert_exporter": "python",
   "pygments_lexer": "ipython3",
   "version": "3.10.4"
  },
  "vscode": {
   "interpreter": {
    "hash": "3ad933181bd8a04b432d3370b9dc3b0662ad032c4dfaa4e4f1596c548f763858"
   }
  }
 },
 "nbformat": 4,
 "nbformat_minor": 4
}
